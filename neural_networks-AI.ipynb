{
  "cells": [
    {
      "cell_type": "markdown",
      "metadata": {
        "id": "IfC1sGlE1VMA"
      },
      "source": [
        "#IA - <font color='blue'> Avaliação de algoritmos de AM em Python</font> - Trabalho 4\n",
        "\n",
        "---\n",
        "João Vitor Fidelis Cardozo, 769719 \\\\\n",
        "Sara Ferreira, 773352"
      ]
    },
    {
      "cell_type": "markdown",
      "metadata": {
        "id": "cgNuiXJqJqmD"
      },
      "source": [
        "1, 2, 3) Selecionar um conjunto de dados adequado para problemas de classificação (conjunto com\n",
        "classes nominais);"
      ]
    },
    {
      "cell_type": "code",
      "execution_count": 17,
      "metadata": {
        "id": "qufbYrvC1MDH"
      },
      "outputs": [],
      "source": [
        "import numpy as np\n",
        "import pandas as pd\n",
        "import matplotlib.pyplot as plt\n",
        "import warnings\n",
        "import statistics\n",
        "from sklearn import datasets\n",
        "from sklearn.metrics import confusion_matrix\n",
        "from sklearn.metrics import classification_report\n",
        "from sklearn.metrics import plot_confusion_matrix\n",
        "from sklearn.neural_network import MLPClassifier\n",
        "\n",
        "warnings.filterwarnings('ignore')\n",
        "X, y = datasets.load_wine(return_X_y=True)  #Conjunto adequado para classificação https://scikit-learn.org/stable/modules/generated/sklearn.datasets.load_wine.html#sklearn.datasets.load_wine"
      ]
    },
    {
      "cell_type": "markdown",
      "metadata": {
        "id": "GryDIWIHO0lF"
      },
      "source": [
        "4) Separar o conjunto de dados em matriz de atributos (X) e vetor de classes (y)"
      ]
    },
    {
      "cell_type": "code",
      "execution_count": 19,
      "metadata": {
        "colab": {
          "base_uri": "https://localhost:8080/",
          "height": 487
        },
        "id": "NcBmSpr8fUQD",
        "outputId": "822da117-d257-4f46-ec43-4efd3026aaa5"
      },
      "outputs": [
        {
          "output_type": "execute_result",
          "data": {
            "text/plain": [
              "     alcohol  malic_acid   ash  alcalinity_of_ash  magnesium  total_phenols  \\\n",
              "0      14.23        1.71  2.43               15.6      127.0           2.80   \n",
              "1      13.20        1.78  2.14               11.2      100.0           2.65   \n",
              "2      13.16        2.36  2.67               18.6      101.0           2.80   \n",
              "3      14.37        1.95  2.50               16.8      113.0           3.85   \n",
              "4      13.24        2.59  2.87               21.0      118.0           2.80   \n",
              "..       ...         ...   ...                ...        ...            ...   \n",
              "173    13.71        5.65  2.45               20.5       95.0           1.68   \n",
              "174    13.40        3.91  2.48               23.0      102.0           1.80   \n",
              "175    13.27        4.28  2.26               20.0      120.0           1.59   \n",
              "176    13.17        2.59  2.37               20.0      120.0           1.65   \n",
              "177    14.13        4.10  2.74               24.5       96.0           2.05   \n",
              "\n",
              "     flavanoids  nonflavanoid_phenols  proanthocyanins  color_intensity   hue  \\\n",
              "0          3.06                  0.28             2.29             5.64  1.04   \n",
              "1          2.76                  0.26             1.28             4.38  1.05   \n",
              "2          3.24                  0.30             2.81             5.68  1.03   \n",
              "3          3.49                  0.24             2.18             7.80  0.86   \n",
              "4          2.69                  0.39             1.82             4.32  1.04   \n",
              "..          ...                   ...              ...              ...   ...   \n",
              "173        0.61                  0.52             1.06             7.70  0.64   \n",
              "174        0.75                  0.43             1.41             7.30  0.70   \n",
              "175        0.69                  0.43             1.35            10.20  0.59   \n",
              "176        0.68                  0.53             1.46             9.30  0.60   \n",
              "177        0.76                  0.56             1.35             9.20  0.61   \n",
              "\n",
              "     od280/od315_of_diluted_wines  proline  class  \n",
              "0                            3.92   1065.0      0  \n",
              "1                            3.40   1050.0      0  \n",
              "2                            3.17   1185.0      0  \n",
              "3                            3.45   1480.0      0  \n",
              "4                            2.93    735.0      0  \n",
              "..                            ...      ...    ...  \n",
              "173                          1.74    740.0      2  \n",
              "174                          1.56    750.0      2  \n",
              "175                          1.56    835.0      2  \n",
              "176                          1.62    840.0      2  \n",
              "177                          1.60    560.0      2  \n",
              "\n",
              "[178 rows x 14 columns]"
            ],
            "text/html": [
              "\n",
              "  <div id=\"df-d34902d0-4df2-44a0-8fbc-e88481bb4e36\">\n",
              "    <div class=\"colab-df-container\">\n",
              "      <div>\n",
              "<style scoped>\n",
              "    .dataframe tbody tr th:only-of-type {\n",
              "        vertical-align: middle;\n",
              "    }\n",
              "\n",
              "    .dataframe tbody tr th {\n",
              "        vertical-align: top;\n",
              "    }\n",
              "\n",
              "    .dataframe thead th {\n",
              "        text-align: right;\n",
              "    }\n",
              "</style>\n",
              "<table border=\"1\" class=\"dataframe\">\n",
              "  <thead>\n",
              "    <tr style=\"text-align: right;\">\n",
              "      <th></th>\n",
              "      <th>alcohol</th>\n",
              "      <th>malic_acid</th>\n",
              "      <th>ash</th>\n",
              "      <th>alcalinity_of_ash</th>\n",
              "      <th>magnesium</th>\n",
              "      <th>total_phenols</th>\n",
              "      <th>flavanoids</th>\n",
              "      <th>nonflavanoid_phenols</th>\n",
              "      <th>proanthocyanins</th>\n",
              "      <th>color_intensity</th>\n",
              "      <th>hue</th>\n",
              "      <th>od280/od315_of_diluted_wines</th>\n",
              "      <th>proline</th>\n",
              "      <th>class</th>\n",
              "    </tr>\n",
              "  </thead>\n",
              "  <tbody>\n",
              "    <tr>\n",
              "      <th>0</th>\n",
              "      <td>14.23</td>\n",
              "      <td>1.71</td>\n",
              "      <td>2.43</td>\n",
              "      <td>15.6</td>\n",
              "      <td>127.0</td>\n",
              "      <td>2.80</td>\n",
              "      <td>3.06</td>\n",
              "      <td>0.28</td>\n",
              "      <td>2.29</td>\n",
              "      <td>5.64</td>\n",
              "      <td>1.04</td>\n",
              "      <td>3.92</td>\n",
              "      <td>1065.0</td>\n",
              "      <td>0</td>\n",
              "    </tr>\n",
              "    <tr>\n",
              "      <th>1</th>\n",
              "      <td>13.20</td>\n",
              "      <td>1.78</td>\n",
              "      <td>2.14</td>\n",
              "      <td>11.2</td>\n",
              "      <td>100.0</td>\n",
              "      <td>2.65</td>\n",
              "      <td>2.76</td>\n",
              "      <td>0.26</td>\n",
              "      <td>1.28</td>\n",
              "      <td>4.38</td>\n",
              "      <td>1.05</td>\n",
              "      <td>3.40</td>\n",
              "      <td>1050.0</td>\n",
              "      <td>0</td>\n",
              "    </tr>\n",
              "    <tr>\n",
              "      <th>2</th>\n",
              "      <td>13.16</td>\n",
              "      <td>2.36</td>\n",
              "      <td>2.67</td>\n",
              "      <td>18.6</td>\n",
              "      <td>101.0</td>\n",
              "      <td>2.80</td>\n",
              "      <td>3.24</td>\n",
              "      <td>0.30</td>\n",
              "      <td>2.81</td>\n",
              "      <td>5.68</td>\n",
              "      <td>1.03</td>\n",
              "      <td>3.17</td>\n",
              "      <td>1185.0</td>\n",
              "      <td>0</td>\n",
              "    </tr>\n",
              "    <tr>\n",
              "      <th>3</th>\n",
              "      <td>14.37</td>\n",
              "      <td>1.95</td>\n",
              "      <td>2.50</td>\n",
              "      <td>16.8</td>\n",
              "      <td>113.0</td>\n",
              "      <td>3.85</td>\n",
              "      <td>3.49</td>\n",
              "      <td>0.24</td>\n",
              "      <td>2.18</td>\n",
              "      <td>7.80</td>\n",
              "      <td>0.86</td>\n",
              "      <td>3.45</td>\n",
              "      <td>1480.0</td>\n",
              "      <td>0</td>\n",
              "    </tr>\n",
              "    <tr>\n",
              "      <th>4</th>\n",
              "      <td>13.24</td>\n",
              "      <td>2.59</td>\n",
              "      <td>2.87</td>\n",
              "      <td>21.0</td>\n",
              "      <td>118.0</td>\n",
              "      <td>2.80</td>\n",
              "      <td>2.69</td>\n",
              "      <td>0.39</td>\n",
              "      <td>1.82</td>\n",
              "      <td>4.32</td>\n",
              "      <td>1.04</td>\n",
              "      <td>2.93</td>\n",
              "      <td>735.0</td>\n",
              "      <td>0</td>\n",
              "    </tr>\n",
              "    <tr>\n",
              "      <th>...</th>\n",
              "      <td>...</td>\n",
              "      <td>...</td>\n",
              "      <td>...</td>\n",
              "      <td>...</td>\n",
              "      <td>...</td>\n",
              "      <td>...</td>\n",
              "      <td>...</td>\n",
              "      <td>...</td>\n",
              "      <td>...</td>\n",
              "      <td>...</td>\n",
              "      <td>...</td>\n",
              "      <td>...</td>\n",
              "      <td>...</td>\n",
              "      <td>...</td>\n",
              "    </tr>\n",
              "    <tr>\n",
              "      <th>173</th>\n",
              "      <td>13.71</td>\n",
              "      <td>5.65</td>\n",
              "      <td>2.45</td>\n",
              "      <td>20.5</td>\n",
              "      <td>95.0</td>\n",
              "      <td>1.68</td>\n",
              "      <td>0.61</td>\n",
              "      <td>0.52</td>\n",
              "      <td>1.06</td>\n",
              "      <td>7.70</td>\n",
              "      <td>0.64</td>\n",
              "      <td>1.74</td>\n",
              "      <td>740.0</td>\n",
              "      <td>2</td>\n",
              "    </tr>\n",
              "    <tr>\n",
              "      <th>174</th>\n",
              "      <td>13.40</td>\n",
              "      <td>3.91</td>\n",
              "      <td>2.48</td>\n",
              "      <td>23.0</td>\n",
              "      <td>102.0</td>\n",
              "      <td>1.80</td>\n",
              "      <td>0.75</td>\n",
              "      <td>0.43</td>\n",
              "      <td>1.41</td>\n",
              "      <td>7.30</td>\n",
              "      <td>0.70</td>\n",
              "      <td>1.56</td>\n",
              "      <td>750.0</td>\n",
              "      <td>2</td>\n",
              "    </tr>\n",
              "    <tr>\n",
              "      <th>175</th>\n",
              "      <td>13.27</td>\n",
              "      <td>4.28</td>\n",
              "      <td>2.26</td>\n",
              "      <td>20.0</td>\n",
              "      <td>120.0</td>\n",
              "      <td>1.59</td>\n",
              "      <td>0.69</td>\n",
              "      <td>0.43</td>\n",
              "      <td>1.35</td>\n",
              "      <td>10.20</td>\n",
              "      <td>0.59</td>\n",
              "      <td>1.56</td>\n",
              "      <td>835.0</td>\n",
              "      <td>2</td>\n",
              "    </tr>\n",
              "    <tr>\n",
              "      <th>176</th>\n",
              "      <td>13.17</td>\n",
              "      <td>2.59</td>\n",
              "      <td>2.37</td>\n",
              "      <td>20.0</td>\n",
              "      <td>120.0</td>\n",
              "      <td>1.65</td>\n",
              "      <td>0.68</td>\n",
              "      <td>0.53</td>\n",
              "      <td>1.46</td>\n",
              "      <td>9.30</td>\n",
              "      <td>0.60</td>\n",
              "      <td>1.62</td>\n",
              "      <td>840.0</td>\n",
              "      <td>2</td>\n",
              "    </tr>\n",
              "    <tr>\n",
              "      <th>177</th>\n",
              "      <td>14.13</td>\n",
              "      <td>4.10</td>\n",
              "      <td>2.74</td>\n",
              "      <td>24.5</td>\n",
              "      <td>96.0</td>\n",
              "      <td>2.05</td>\n",
              "      <td>0.76</td>\n",
              "      <td>0.56</td>\n",
              "      <td>1.35</td>\n",
              "      <td>9.20</td>\n",
              "      <td>0.61</td>\n",
              "      <td>1.60</td>\n",
              "      <td>560.0</td>\n",
              "      <td>2</td>\n",
              "    </tr>\n",
              "  </tbody>\n",
              "</table>\n",
              "<p>178 rows × 14 columns</p>\n",
              "</div>\n",
              "      <button class=\"colab-df-convert\" onclick=\"convertToInteractive('df-d34902d0-4df2-44a0-8fbc-e88481bb4e36')\"\n",
              "              title=\"Convert this dataframe to an interactive table.\"\n",
              "              style=\"display:none;\">\n",
              "        \n",
              "  <svg xmlns=\"http://www.w3.org/2000/svg\" height=\"24px\"viewBox=\"0 0 24 24\"\n",
              "       width=\"24px\">\n",
              "    <path d=\"M0 0h24v24H0V0z\" fill=\"none\"/>\n",
              "    <path d=\"M18.56 5.44l.94 2.06.94-2.06 2.06-.94-2.06-.94-.94-2.06-.94 2.06-2.06.94zm-11 1L8.5 8.5l.94-2.06 2.06-.94-2.06-.94L8.5 2.5l-.94 2.06-2.06.94zm10 10l.94 2.06.94-2.06 2.06-.94-2.06-.94-.94-2.06-.94 2.06-2.06.94z\"/><path d=\"M17.41 7.96l-1.37-1.37c-.4-.4-.92-.59-1.43-.59-.52 0-1.04.2-1.43.59L10.3 9.45l-7.72 7.72c-.78.78-.78 2.05 0 2.83L4 21.41c.39.39.9.59 1.41.59.51 0 1.02-.2 1.41-.59l7.78-7.78 2.81-2.81c.8-.78.8-2.07 0-2.86zM5.41 20L4 18.59l7.72-7.72 1.47 1.35L5.41 20z\"/>\n",
              "  </svg>\n",
              "      </button>\n",
              "      \n",
              "  <style>\n",
              "    .colab-df-container {\n",
              "      display:flex;\n",
              "      flex-wrap:wrap;\n",
              "      gap: 12px;\n",
              "    }\n",
              "\n",
              "    .colab-df-convert {\n",
              "      background-color: #E8F0FE;\n",
              "      border: none;\n",
              "      border-radius: 50%;\n",
              "      cursor: pointer;\n",
              "      display: none;\n",
              "      fill: #1967D2;\n",
              "      height: 32px;\n",
              "      padding: 0 0 0 0;\n",
              "      width: 32px;\n",
              "    }\n",
              "\n",
              "    .colab-df-convert:hover {\n",
              "      background-color: #E2EBFA;\n",
              "      box-shadow: 0px 1px 2px rgba(60, 64, 67, 0.3), 0px 1px 3px 1px rgba(60, 64, 67, 0.15);\n",
              "      fill: #174EA6;\n",
              "    }\n",
              "\n",
              "    [theme=dark] .colab-df-convert {\n",
              "      background-color: #3B4455;\n",
              "      fill: #D2E3FC;\n",
              "    }\n",
              "\n",
              "    [theme=dark] .colab-df-convert:hover {\n",
              "      background-color: #434B5C;\n",
              "      box-shadow: 0px 1px 3px 1px rgba(0, 0, 0, 0.15);\n",
              "      filter: drop-shadow(0px 1px 2px rgba(0, 0, 0, 0.3));\n",
              "      fill: #FFFFFF;\n",
              "    }\n",
              "  </style>\n",
              "\n",
              "      <script>\n",
              "        const buttonEl =\n",
              "          document.querySelector('#df-d34902d0-4df2-44a0-8fbc-e88481bb4e36 button.colab-df-convert');\n",
              "        buttonEl.style.display =\n",
              "          google.colab.kernel.accessAllowed ? 'block' : 'none';\n",
              "\n",
              "        async function convertToInteractive(key) {\n",
              "          const element = document.querySelector('#df-d34902d0-4df2-44a0-8fbc-e88481bb4e36');\n",
              "          const dataTable =\n",
              "            await google.colab.kernel.invokeFunction('convertToInteractive',\n",
              "                                                     [key], {});\n",
              "          if (!dataTable) return;\n",
              "\n",
              "          const docLinkHtml = 'Like what you see? Visit the ' +\n",
              "            '<a target=\"_blank\" href=https://colab.research.google.com/notebooks/data_table.ipynb>data table notebook</a>'\n",
              "            + ' to learn more about interactive tables.';\n",
              "          element.innerHTML = '';\n",
              "          dataTable['output_type'] = 'display_data';\n",
              "          await google.colab.output.renderOutput(dataTable, element);\n",
              "          const docLink = document.createElement('div');\n",
              "          docLink.innerHTML = docLinkHtml;\n",
              "          element.appendChild(docLink);\n",
              "        }\n",
              "      </script>\n",
              "    </div>\n",
              "  </div>\n",
              "  "
            ]
          },
          "metadata": {},
          "execution_count": 19
        }
      ],
      "source": [
        "wine = datasets.load_wine()\n",
        "X = wine.data\n",
        "y = wine.target\n",
        "\n",
        "#Código para printar a tabela\n",
        "data = pd.DataFrame(wine.data, columns=wine.feature_names)   # converting dataset into pandas dataframe for preprocessing\n",
        "data['class'] = wine.target\n",
        "\n",
        "Y = data['class']                # Output for each example\n",
        "X = data.drop('class', axis=1)   # Inputs\n",
        "\n",
        "data = data.sample(frac=1).sort_index()\n",
        "data\n"
      ]
    },
    {
      "cell_type": "markdown",
      "metadata": {
        "id": "9HgihIRZlPlV"
      },
      "source": [
        "6) Implementar uma função que, dado um conjunto de dados, separe esse conjunto em 10 folds\n",
        "(10 subconjuntos)."
      ]
    },
    {
      "cell_type": "code",
      "execution_count": 21,
      "metadata": {
        "id": "8SrL7MejlTck"
      },
      "outputs": [],
      "source": [
        "len_df = data.shape[0]\n",
        "iterations, remaining = int(len_df/10), (len_df%10)\n",
        "folds = []\n",
        "\n",
        "#Distribui os elementos do conjunto de forma equivalente, contendo 17 elementos cada subconjunto, pois é a parte inteira da divisão.\n",
        "for linha in range(10):\n",
        "  folds.append(data.iloc[(linha*17):(linha+1)*17])\n",
        "\n",
        "#Redistribuir resto (8 elementos). Redistribui 1 elemento para os 8 primeiros subconjuntos.\n",
        "for rest in range(remaining):\n",
        "  folds[rest] = pd.concat([folds[rest], data.iloc[(iterations*10)+rest:(iterations*10)+1+rest]], ignore_index = True)\n"
      ]
    },
    {
      "cell_type": "markdown",
      "metadata": {
        "id": "x6HEUt68BakF"
      },
      "source": [
        "\n",
        "7) Dados os 10 folds, avaliar um algoritmo de redes neurais usando a estratégia 10-fold crossvalidation, ou seja, em cada uma das 10 iterações, treinar a rede neural em 9 folds (folds de\n",
        "treinamento) e testar no fold restante (fold de teste), cada vez com um fold de teste diferente.\n",
        "\n",
        "********************************************************************************\n",
        "Assumindo que i seja o subconjunto de teste, os outros são de treino, então pra cada iteração, foi denotado i para teste e os outros 9 para treino."
      ]
    },
    {
      "cell_type": "code",
      "execution_count": 22,
      "metadata": {
        "id": "_GlxhCdkB__e"
      },
      "outputs": [],
      "source": [
        "#Vetor para armazenar subconjuntos de teste e de treino\n",
        "xtrain = []\n",
        "xtest = []\n",
        "ytrain = []\n",
        "ytest = []\n",
        "\n",
        "for i in range(10):\n",
        "  testSubset = folds[i]\n",
        "  x_test, y_test =  testSubset.drop('class', axis=1), testSubset['class']\n",
        "  xtest.append(x_test), ytest.append(y_test)\n",
        "  trainSubset = pd.DataFrame(None)\n",
        "  copia = folds.copy()\n",
        "  copia.pop(i) #remove o conjunto de teste\n",
        "  trainSubset = pd.concat(copia) #concatena todos os conjuntos de treino\n",
        "  y_train, x_train = trainSubset['class'], trainSubset.drop('class', axis=1)\n",
        "  xtrain.append(x_train), ytrain.append(y_train)\n"
      ]
    },
    {
      "cell_type": "markdown",
      "metadata": {
        "id": "TvAk1SAiBu0d"
      },
      "source": [
        "8) A arquitetura da rede neural (quantidade de camadas, número de neurônios entre as camadas,\n",
        "taxa de aprendizado...) deve ser escolhida de acordo com o conjunto de dados escolhido. Faça\n",
        "testes."
      ]
    },
    {
      "cell_type": "code",
      "execution_count": 23,
      "metadata": {
        "id": "vLC-AXoFBedb"
      },
      "outputs": [],
      "source": [
        "vector_clfs = []\n",
        "for i in range(10):\n",
        "  clf = MLPClassifier(hidden_layer_sizes=(11, 11, 11), max_iter=500)\n",
        "  vector_clfs.append(clf.fit(xtrain[i], ytrain[i]))"
      ]
    },
    {
      "cell_type": "markdown",
      "source": [
        "9)Escolha um dos folds para mostrar os pesos conectando todas as camadas da sua rede;"
      ],
      "metadata": {
        "id": "KBbdVuMTHm6z"
      }
    },
    {
      "cell_type": "code",
      "source": [
        "chosen_fold = vector_clfs[len(vector_clfs)-2]\n",
        "print('Pesos entre a entrada e a camada escondida:')\n",
        "print(chosen_fold.coefs_[0])\n",
        "print('\\n')\n",
        "print('Pesos entre a primeira camada escondidada e a segunda camada escondida:')\n",
        "print(chosen_fold.coefs_[1])"
      ],
      "metadata": {
        "colab": {
          "base_uri": "https://localhost:8080/"
        },
        "id": "aVm256NTD2eb",
        "outputId": "abd17738-2a87-4282-9553-96cea63f8a0b"
      },
      "execution_count": 32,
      "outputs": [
        {
          "output_type": "stream",
          "name": "stdout",
          "text": [
            "Pesos entre a entrada e a camada escondida:\n",
            "[[ 4.81217221e-01 -8.26434739e-03  3.20625643e-02  7.77765287e-05\n",
            "  -1.15631667e-02 -2.11757486e-01 -9.96039269e-02 -5.93907526e-02\n",
            "  -6.26685135e-10 -2.22801362e-01 -1.44641018e-01]\n",
            " [ 9.05379746e-03 -4.28266620e-02 -4.25973450e-02  4.60045448e-02\n",
            "  -6.69938750e-04 -3.86876302e-01 -1.05550850e-01  1.31097264e-11\n",
            "   6.83203480e-02  2.99938924e-01 -1.25463953e-01]\n",
            " [-4.74635895e-01  1.17818803e-02 -3.44836866e-01 -5.94997804e-02\n",
            "   1.39608319e-01 -2.04674551e-01 -3.67566895e-02 -1.21325860e-02\n",
            "   8.98821523e-02 -3.74616459e-01 -6.60550874e-02]\n",
            " [ 1.52013577e-01  1.30311339e-02  4.13044212e-01 -1.15675179e-01\n",
            "  -1.00581460e-02  2.61506428e-01 -1.78979700e-04  4.97809319e-02\n",
            "  -1.33685982e-03  1.23986982e-01 -1.20605392e-01]\n",
            " [-6.66803346e-03  7.21172099e-10 -2.00624771e-02  8.30298913e-05\n",
            "  -7.00979860e-04 -2.59654536e-02 -2.13120065e-05 -1.10904248e-02\n",
            "  -6.90356787e-02 -4.04879861e-01  5.16038926e-03]\n",
            " [ 1.01598449e-01  6.88456826e-02  3.55548914e-01  2.75944061e-02\n",
            "   1.48255232e-02  3.34873369e-01 -1.38122932e-01  1.54104185e-02\n",
            "   5.34759639e-02 -3.62392329e-02 -1.12573794e-01]\n",
            " [ 2.23219571e-01 -7.37103314e-02 -9.50796001e-02 -6.22467192e-03\n",
            "   8.60155267e-04 -4.07469855e-01  9.94955940e-02 -3.30289686e-02\n",
            "  -3.65961901e-04 -5.70778112e-01  1.27983037e-01]\n",
            " [-6.40876570e-02  7.49906832e-03  3.18808237e-01  1.61352838e-02\n",
            "   1.26614660e-01 -5.92296371e-02  3.04210646e-03  1.14059813e-01\n",
            "   1.87884892e-04 -3.23752830e-01  1.44199621e-01]\n",
            " [ 6.04721239e-02  1.85683175e-04  1.59185706e-01 -1.82827304e-02\n",
            "   4.77992426e-02  7.90788996e-02 -1.39598579e-12  1.26313195e-01\n",
            "   1.14433788e-01  3.69496856e-01 -1.83909037e-02]\n",
            " [ 2.41589065e-01  4.56734902e-03 -3.30088917e-01 -1.17679813e-01\n",
            "   1.23557630e-01  3.10300670e-01 -6.36798834e-02  3.46937766e-02\n",
            "  -9.00647962e-04 -2.11124986e-01 -5.40946472e-02]\n",
            " [ 4.77928797e-01 -5.58793823e-03  6.37481266e-02  3.32284661e-02\n",
            "   1.80009847e-02  3.42608827e-01  1.25999777e-01 -3.42172235e-02\n",
            "   5.06252690e-02 -4.49004252e-03  3.20256932e-07]\n",
            " [-2.37632545e-01 -1.46987362e-03 -1.43728681e-01 -1.10174810e-07\n",
            "   7.05432361e-02 -4.50001866e-01 -9.24741399e-02  1.21023774e-01\n",
            "   4.40026087e-05 -1.54203424e-01  1.05940445e-02]\n",
            " [ 2.21477820e-01 -8.20112558e-02  3.67046499e-01 -1.91052166e-03\n",
            "  -5.55612771e-02  2.60700312e-01 -3.20626626e-02 -7.92049426e-02\n",
            "  -3.90625578e-02  4.16896458e-01 -8.44581925e-02]]\n",
            "\n",
            "\n",
            "Pesos entre a primeira camada escondidada e a segunda camada escondida:\n",
            "[[ 4.09537678e-01  3.48215380e-01 -1.48161680e-03  7.19407543e-04\n",
            "  -3.97072403e-02 -5.43188723e-01  5.74226488e-08 -3.97253480e-01\n",
            "  -2.69544565e-01  3.15715408e-01 -2.46369918e-02]\n",
            " [ 1.32408917e-01 -2.22747656e-03 -7.35962401e-03  1.89032695e-02\n",
            "  -1.12147056e-01  1.07735101e-01 -3.69876734e-02 -2.77585117e-02\n",
            "  -3.15772504e-05 -5.31984264e-02  8.43200025e-02]\n",
            " [ 1.01874966e-01 -1.01487125e-01  4.97439248e-04 -4.53979094e-05\n",
            "  -1.13743275e-01 -3.86986843e-01 -6.48665481e-03  4.63841667e-01\n",
            "   2.89593402e-01  1.77149883e-01 -3.06020929e-04]\n",
            " [-3.11347394e-03  6.35949746e-03  4.95008358e-03  2.44232929e-03\n",
            "  -1.70250942e-03  1.64132981e-01  3.64082277e-02  1.11757880e-03\n",
            "  -5.53828964e-06  2.37723992e-02 -4.26496177e-06]\n",
            " [ 8.73019862e-02  7.12538127e-02 -4.16773607e-09  8.29140886e-02\n",
            "  -5.60523463e-02  1.56971713e-01  1.82456637e-02 -3.09012435e-02\n",
            "  -6.22332365e-02  5.10452638e-02 -1.52295714e-01]\n",
            " [ 1.48278281e-01  3.95837009e-01 -3.72634270e-04 -7.41681651e-02\n",
            "   6.08505858e-02  4.35863029e-01 -3.13146993e-02 -1.35747070e-01\n",
            "   2.02942881e-01  8.12004829e-02 -3.07153807e-04]\n",
            " [-2.03187944e-02  8.56723447e-02 -8.38951195e-05  1.51638354e-01\n",
            "  -1.62923378e-03  6.11194878e-02  1.21337350e-01  1.20835046e-01\n",
            "  -3.70036181e-02  8.36176077e-02 -5.70036558e-02]\n",
            " [ 5.07754596e-08 -9.49552076e-02 -2.34449884e-03 -1.69129357e-01\n",
            "   3.30346824e-07  3.62132760e-03  8.43655122e-04 -5.37823404e-02\n",
            "  -6.51509774e-02  4.73449440e-02  7.29292712e-09]\n",
            " [ 3.83284346e-05  5.99849956e-02  1.98549431e-11  1.64888940e-01\n",
            "  -6.51513181e-02 -1.02604567e-02  1.52786487e-01 -1.22483428e-02\n",
            "  -4.45561590e-02  1.16963416e-01  1.60769172e-01]\n",
            " [-3.00453802e-01  4.40087522e-02 -4.53557762e-03  7.64407447e-05\n",
            "  -1.18330591e-11  3.64977615e-01 -3.31486349e-04  9.83241097e-02\n",
            "   2.17205865e-01 -3.84841185e-01 -1.19126802e-01]\n",
            " [-7.27338320e-03 -3.93218151e-02 -1.65883071e-02  8.61005629e-07\n",
            "   9.40279443e-02 -2.90746531e-02 -6.05666286e-04 -1.28015925e-01\n",
            "  -8.47559142e-02 -1.53280157e-03  4.57174670e-05]]\n"
          ]
        }
      ]
    },
    {
      "cell_type": "markdown",
      "metadata": {
        "id": "3089sXfGAyB0"
      },
      "source": [
        "10) Em cada um dos folds, fazer a avaliação do modelo gerado usando os dados de teste e mostrando\n",
        "os resultados das funções confusion_matrix(...) e classification_report(...) do modulo\n",
        "sklearn.metrics;"
      ]
    },
    {
      "cell_type": "code",
      "execution_count": 33,
      "metadata": {
        "colab": {
          "base_uri": "https://localhost:8080/",
          "height": 1000
        },
        "id": "QINCkPbmA10A",
        "outputId": "c09b5951-b1c9-4871-f601-7c69bb1cefe8"
      },
      "outputs": [
        {
          "output_type": "stream",
          "name": "stdout",
          "text": [
            "              precision    recall  f1-score   support\n",
            "\n",
            "           0     1.0000    0.9412    0.9697        17\n",
            "           1     0.0000    0.0000    0.0000         0\n",
            "           2     1.0000    1.0000    1.0000         1\n",
            "\n",
            "    accuracy                         0.9444        18\n",
            "   macro avg     0.6667    0.6471    0.6566        18\n",
            "weighted avg     1.0000    0.9444    0.9714        18\n",
            "\n"
          ]
        },
        {
          "output_type": "display_data",
          "data": {
            "text/plain": [
              "<Figure size 432x288 with 2 Axes>"
            ],
            "image/png": "[encoded data removed]"
          },
          "metadata": {
            "needs_background": "light"
          }
        },
        {
          "output_type": "stream",
          "name": "stdout",
          "text": [
            "              precision    recall  f1-score   support\n",
            "\n",
            "           0     1.0000    0.7647    0.8667        17\n",
            "           1     0.0000    0.0000    0.0000         0\n",
            "           2     1.0000    1.0000    1.0000         1\n",
            "\n",
            "    accuracy                         0.7778        18\n",
            "   macro avg     0.6667    0.5882    0.6222        18\n",
            "weighted avg     1.0000    0.7778    0.8741        18\n",
            "\n"
          ]
        },
        {
          "output_type": "display_data",
          "data": {
            "text/plain": [
              "<Figure size 432x288 with 2 Axes>"
            ],
            "image/png": "[encoded data removed]"
          },
          "metadata": {
            "needs_background": "light"
          }
        },
        {
          "output_type": "stream",
          "name": "stdout",
          "text": [
            "              precision    recall  f1-score   support\n",
            "\n",
            "           0     1.0000    0.7059    0.8276        17\n",
            "           1     0.0000    0.0000    0.0000         0\n",
            "           2     0.3333    1.0000    0.5000         1\n",
            "\n",
            "    accuracy                         0.7222        18\n",
            "   macro avg     0.4444    0.5686    0.4425        18\n",
            "weighted avg     0.9630    0.7222    0.8094        18\n",
            "\n"
          ]
        },
        {
          "output_type": "display_data",
          "data": {
            "text/plain": [
              "<Figure size 432x288 with 2 Axes>"
            ],
            "image/png": "[encoded data removed]"
          },
          "metadata": {
            "needs_background": "light"
          }
        },
        {
          "output_type": "stream",
          "name": "stdout",
          "text": [
            "              precision    recall  f1-score   support\n",
            "\n",
            "           0     0.0000    0.0000    0.0000         8\n",
            "           1     0.5000    1.0000    0.6667         9\n",
            "           2     0.0000    0.0000    0.0000         1\n",
            "\n",
            "    accuracy                         0.5000        18\n",
            "   macro avg     0.1667    0.3333    0.2222        18\n",
            "weighted avg     0.2500    0.5000    0.3333        18\n",
            "\n"
          ]
        },
        {
          "output_type": "display_data",
          "data": {
            "text/plain": [
              "<Figure size 432x288 with 2 Axes>"
            ],
            "image/png": "[encoded data removed]"
          },
          "metadata": {
            "needs_background": "light"
          }
        },
        {
          "output_type": "stream",
          "name": "stdout",
          "text": [
            "              precision    recall  f1-score   support\n",
            "\n",
            "           0     0.0000    0.0000    0.0000       0.0\n",
            "           1     0.0000    0.0000    0.0000      17.0\n",
            "           2     0.0000    0.0000    0.0000       1.0\n",
            "\n",
            "    accuracy                         0.0000      18.0\n",
            "   macro avg     0.0000    0.0000    0.0000      18.0\n",
            "weighted avg     0.0000    0.0000    0.0000      18.0\n",
            "\n"
          ]
        },
        {
          "output_type": "display_data",
          "data": {
            "text/plain": [
              "<Figure size 432x288 with 2 Axes>"
            ],
            "image/png": "[encoded data removed]"
          },
          "metadata": {
            "needs_background": "light"
          }
        },
        {
          "output_type": "stream",
          "name": "stdout",
          "text": [
            "              precision    recall  f1-score   support\n",
            "\n",
            "           0     0.0000    0.0000    0.0000         0\n",
            "           1     1.0000    0.8235    0.9032        17\n",
            "           2     0.5000    1.0000    0.6667         1\n",
            "\n",
            "    accuracy                         0.8333        18\n",
            "   macro avg     0.5000    0.6078    0.5233        18\n",
            "weighted avg     0.9722    0.8333    0.8901        18\n",
            "\n"
          ]
        },
        {
          "output_type": "display_data",
          "data": {
            "text/plain": [
              "<Figure size 432x288 with 2 Axes>"
            ],
            "image/png": "[encoded data removed]"
          },
          "metadata": {
            "needs_background": "light"
          }
        },
        {
          "output_type": "stream",
          "name": "stdout",
          "text": [
            "              precision    recall  f1-score   support\n",
            "\n",
            "           1     1.0000    0.7647    0.8667        17\n",
            "           2     0.2000    1.0000    0.3333         1\n",
            "\n",
            "    accuracy                         0.7778        18\n",
            "   macro avg     0.6000    0.8824    0.6000        18\n",
            "weighted avg     0.9556    0.7778    0.8370        18\n",
            "\n"
          ]
        },
        {
          "output_type": "display_data",
          "data": {
            "text/plain": [
              "<Figure size 432x288 with 2 Axes>"
            ],
            "image/png": "[encoded data removed]"
          },
          "metadata": {
            "needs_background": "light"
          }
        },
        {
          "output_type": "stream",
          "name": "stdout",
          "text": [
            "              precision    recall  f1-score   support\n",
            "\n",
            "           1     0.7692    0.9091    0.8333        11\n",
            "           2     0.8000    0.5714    0.6667         7\n",
            "\n",
            "    accuracy                         0.7778        18\n",
            "   macro avg     0.7846    0.7403    0.7500        18\n",
            "weighted avg     0.7812    0.7778    0.7685        18\n",
            "\n"
          ]
        },
        {
          "output_type": "display_data",
          "data": {
            "text/plain": [
              "<Figure size 432x288 with 2 Axes>"
            ],
            "image/png": "[encoded data removed]"
          },
          "metadata": {
            "needs_background": "light"
          }
        },
        {
          "output_type": "stream",
          "name": "stdout",
          "text": [
            "              precision    recall  f1-score   support\n",
            "\n",
            "           0     0.0000    0.0000    0.0000       0.0\n",
            "           1     0.0000    0.0000    0.0000       0.0\n",
            "           2     0.0000    0.0000    0.0000      17.0\n",
            "\n",
            "    accuracy                         0.0000      17.0\n",
            "   macro avg     0.0000    0.0000    0.0000      17.0\n",
            "weighted avg     0.0000    0.0000    0.0000      17.0\n",
            "\n"
          ]
        },
        {
          "output_type": "display_data",
          "data": {
            "text/plain": [
              "<Figure size 432x288 with 2 Axes>"
            ],
            "image/png": "[encoded data removed]"
          },
          "metadata": {
            "needs_background": "light"
          }
        },
        {
          "output_type": "stream",
          "name": "stdout",
          "text": [
            "              precision    recall  f1-score   support\n",
            "\n",
            "           0     0.0000    0.0000    0.0000         0\n",
            "           2     1.0000    0.3529    0.5217        17\n",
            "\n",
            "    accuracy                         0.3529        17\n",
            "   macro avg     0.5000    0.1765    0.2609        17\n",
            "weighted avg     1.0000    0.3529    0.5217        17\n",
            "\n"
          ]
        },
        {
          "output_type": "display_data",
          "data": {
            "text/plain": [
              "<Figure size 432x288 with 2 Axes>"
            ],
            "image/png": "[encoded data removed]"
          },
          "metadata": {
            "needs_background": "light"
          }
        }
      ],
      "source": [
        "dataTestClassifier = []\n",
        "for i in range(10):\n",
        "  dataTestClassifier.append(vector_clfs[i].predict(xtest[i]))\n",
        "\n",
        "class_names = list(data.columns)\n",
        "title = \"Matriz de Confusão\"\n",
        "classification_reports = []\n",
        "for i in range(10):\n",
        "  disp = plot_confusion_matrix(vector_clfs[i], xtest[i], ytest[i], display_labels=class_names, cmap=plt.cm.Blues)\n",
        "  disp.ax_.set_title(title)\n",
        "  print(classification_report(ytest[i], dataTestClassifier[i], digits=4))\n",
        "  classification_reports.append(classification_report(ytest[i], dataTestClassifier[i], digits=4, output_dict=True))\n",
        "  plt.show()"
      ]
    },
    {
      "cell_type": "markdown",
      "metadata": {
        "id": "e5XsLgnKmXPl"
      },
      "source": [
        "11) Ao final das 10 execuções do 10-fold cross-validation, apresentar as médias e desvios padrões\n",
        "dos 10 resultados das medidas de avaliação da função classification_report(...) do modulo\n",
        "sklearn.metrics."
      ]
    },
    {
      "cell_type": "code",
      "execution_count": 34,
      "metadata": {
        "colab": {
          "base_uri": "https://localhost:8080/"
        },
        "id": "0qzURgnnmdu1",
        "outputId": "d59eb973-efa1-4791-f1d8-f96af044014b"
      },
      "outputs": [
        {
          "output_type": "stream",
          "name": "stdout",
          "text": [
            "       precision    recall  f1-score    support\n",
            "count   6.000000  6.000000  6.000000   6.000000\n",
            "mean    0.768519  0.746187  0.757015   9.157407\n",
            "std     0.398170  0.386698  0.392051   9.335345\n",
            "min     0.000000  0.000000  0.000000   0.000000\n",
            "25%     0.736111  0.720588  0.728535   0.958333\n",
            "50%     0.972222  0.942810  0.957071   9.000000\n",
            "75%     1.000000  0.944444  0.970960  17.750000\n",
            "max     1.000000  1.000000  1.000000  18.000000\n",
            "\n",
            "\n",
            "       precision    recall  f1-score    support\n",
            "count   6.000000  6.000000  6.000000   6.000000\n",
            "mean    0.740741  0.651416  0.690123   9.129630\n",
            "std     0.389153  0.344852  0.360442   9.364872\n",
            "min     0.000000  0.000000  0.000000   0.000000\n",
            "25%     0.694444  0.632353  0.661111   0.833333\n",
            "50%     0.888889  0.771242  0.822222   9.000000\n",
            "75%     1.000000  0.777778  0.872222  17.750000\n",
            "max     1.000000  1.000000  1.000000  18.000000\n",
            "\n",
            "\n",
            "       precision    recall  f1-score    support\n",
            "count   6.000000  6.000000  6.000000   6.000000\n",
            "mean    0.577160  0.619826  0.550287   9.120370\n",
            "std     0.389579  0.334578  0.313224   9.374803\n",
            "min     0.000000  0.000000  0.000000   0.000000\n",
            "25%     0.361111  0.602941  0.456897   0.791667\n",
            "50%     0.583333  0.714052  0.611111   9.000000\n",
            "75%     0.902778  0.722222  0.787596  17.750000\n",
            "max     1.000000  1.000000  0.827586  18.000000\n",
            "\n",
            "\n",
            "       precision    recall  f1-score    support\n",
            "count   6.000000  6.000000  6.000000   6.000000\n",
            "mean    0.236111  0.388889  0.287037   9.083333\n",
            "std     0.226180  0.375154  0.268550   7.735740\n",
            "min     0.000000  0.000000  0.000000   0.500000\n",
            "25%     0.041667  0.083333  0.055556   2.750000\n",
            "50%     0.208333  0.416667  0.277778   8.500000\n",
            "75%     0.437500  0.500000  0.458333  15.750000\n",
            "max     0.500000  1.000000  0.666667  18.000000\n",
            "\n",
            "\n",
            "       precision  recall  f1-score    support\n",
            "count        6.0     6.0       6.0   6.000000\n",
            "mean         0.0     0.0       0.0   9.000000\n",
            "std          0.0     0.0       0.0   9.507891\n",
            "min          0.0     0.0       0.0   0.000000\n",
            "25%          0.0     0.0       0.0   0.250000\n",
            "50%          0.0     0.0       0.0   9.000000\n",
            "75%          0.0     0.0       0.0  17.750000\n",
            "max          0.0     0.0       0.0  18.000000\n",
            "\n",
            "\n",
            "       precision    recall  f1-score    support\n",
            "count   6.000000  6.000000  6.000000   6.000000\n",
            "mean    0.634259  0.683007  0.636101   9.138889\n",
            "std     0.381038  0.357093  0.344397   9.354985\n",
            "min     0.000000  0.000000  0.000000   0.000000\n",
            "25%     0.500000  0.661765  0.559140   0.875000\n",
            "50%     0.666667  0.828431  0.750000   9.000000\n",
            "75%     0.937500  0.833333  0.875896  17.750000\n",
            "max     1.000000  1.000000  0.903226  18.000000\n",
            "\n",
            "\n",
            "       precision    recall  f1-score    support\n",
            "count   5.000000  5.000000  5.000000   5.000000\n",
            "mean    0.706667  0.840523  0.682963  10.955556\n",
            "std     0.324475  0.101001  0.221133   9.198967\n",
            "min     0.200000  0.764706  0.333333   0.777778\n",
            "25%     0.600000  0.777778  0.600000   1.000000\n",
            "50%     0.777778  0.777778  0.777778  17.000000\n",
            "75%     0.955556  0.882353  0.837037  18.000000\n",
            "max     1.000000  1.000000  0.866667  18.000000\n",
            "\n",
            "\n",
            "       precision    recall  f1-score    support\n",
            "count   5.000000  5.000000  5.000000   5.000000\n",
            "mean    0.782564  0.755267  0.759259  10.955556\n",
            "std     0.011300  0.121137  0.060363   7.390601\n",
            "min     0.769231  0.571429  0.666667   0.777778\n",
            "25%     0.777778  0.740260  0.750000   7.000000\n",
            "50%     0.781197  0.777778  0.768519  11.000000\n",
            "75%     0.784615  0.777778  0.777778  18.000000\n",
            "max     0.800000  0.909091  0.833333  18.000000\n",
            "\n",
            "\n",
            "       precision  recall  f1-score    support\n",
            "count        6.0     6.0       6.0   6.000000\n",
            "mean         0.0     0.0       0.0   8.500000\n",
            "std          0.0     0.0       0.0   9.311283\n",
            "min          0.0     0.0       0.0   0.000000\n",
            "25%          0.0     0.0       0.0   0.000000\n",
            "50%          0.0     0.0       0.0   8.500000\n",
            "75%          0.0     0.0       0.0  17.000000\n",
            "max          0.0     0.0       0.0  17.000000\n",
            "\n",
            "\n",
            "       precision    recall  f1-score    support\n",
            "count   5.000000  5.000000  5.000000   5.000000\n",
            "mean    0.570588  0.247059  0.331458  10.270588\n",
            "std     0.432063  0.157840  0.216635   9.215471\n",
            "min     0.000000  0.000000  0.000000   0.000000\n",
            "25%     0.352941  0.176471  0.260870   0.352941\n",
            "50%     0.500000  0.352941  0.352941  17.000000\n",
            "75%     1.000000  0.352941  0.521739  17.000000\n",
            "max     1.000000  0.352941  0.521739  17.000000\n",
            "\n",
            "\n"
          ]
        }
      ],
      "source": [
        "classificationDataFrames = [] \n",
        "for i in range(len(classification_reports)):\n",
        "  classificationDataFrames.append(pd.DataFrame(classification_reports[i]).transpose())\n",
        "\n",
        "for i in range(len(classification_reports)):  \n",
        "  print(f'{classificationDataFrames[i].describe()}\\n\\n')"
      ]
    }
  ],
  "metadata": {
    "colab": {
      "collapsed_sections": [],
      "name": "T04_IA_769719_773352.ipynb",
      "provenance": []
    },
    "kernelspec": {
      "display_name": "Python 3",
      "name": "python3"
    },
    "language_info": {
      "name": "python"
    }
  },
  "nbformat": 4,
  "nbformat_minor": 0
}